{
 "cells": [
  {
   "cell_type": "markdown",
   "id": "532fddee",
   "metadata": {},
   "source": [
    "# Import necessary libraries"
   ]
  },
  {
   "cell_type": "code",
   "execution_count": 1,
   "id": "6b5e6996",
   "metadata": {},
   "outputs": [
    {
     "name": "stderr",
     "output_type": "stream",
     "text": [
      "[nltk_data] Downloading package stopwords to\n",
      "[nltk_data]     C:\\Users\\vamsi\\AppData\\Roaming\\nltk_data...\n",
      "[nltk_data]   Package stopwords is already up-to-date!\n"
     ]
    }
   ],
   "source": [
    "import pandas as pd\n",
    "import re\n",
    "import os\n",
    "import nltk\n",
    "import string\n",
    "import pandas as pd\n",
    "nltk.download('stopwords')\n",
    "import seaborn as sns\n",
    "from nltk.corpus import stopwords\n",
    "from collections import Counter\n",
    "from itertools import chain\n",
    "from nltk.stem import PorterStemmer\n",
    "from sklearn.model_selection import train_test_split\n",
    "from sklearn.feature_extraction.text import TfidfVectorizer\n",
    "from sklearn.naive_bayes import ComplementNB\n",
    "from sklearn.metrics import confusion_matrix,accuracy_score\n",
    "from sklearn.metrics import classification_report\n",
    "import warnings\n",
    "warnings.filterwarnings('ignore')\n",
    "import email\n",
    "import multiprocessing\n",
    "import seaborn as sns\n",
    "import email\n",
    "import matplotlib.pyplot as plt"
   ]
  },
  {
   "cell_type": "markdown",
   "id": "90019505",
   "metadata": {},
   "source": [
    "# Loading the Data"
   ]
  },
  {
   "cell_type": "code",
   "execution_count": 2,
   "id": "97463216",
   "metadata": {},
   "outputs": [],
   "source": [
    "directory = r'C:\\Users\\vamsi\\Downloads\\Text analytics\\Text\\Categories'\n",
    "file_name =[]\n",
    "emails =[]\n",
    "category = []\n",
    "for root, dirs, files in os.walk(directory):\n",
    "    for file in files:\n",
    "        if file.endswith('.txt'):\n",
    "            file_name.append(file[:-4])\n",
    "            for f in root:\n",
    "                file_open = open(os.path.join(root, file),'r')\n",
    "                line = file_open.read()\n",
    "                emails.append(line)\n",
    "        if file.endswith('.cats'):\n",
    "            for f in root:\n",
    "                category.append(root[-1])"
   ]
  },
  {
   "cell_type": "markdown",
   "id": "13b7fc57",
   "metadata": {},
   "source": [
    "# Creating DataFrame"
   ]
  },
  {
   "cell_type": "code",
   "execution_count": 3,
   "id": "cc5cb410",
   "metadata": {},
   "outputs": [],
   "source": [
    "df=pd.DataFrame({'message':emails,'category':category})"
   ]
  },
  {
   "cell_type": "markdown",
   "id": "5a891e1c",
   "metadata": {},
   "source": [
    "**Drooping Duplicated values from the Data**"
   ]
  },
  {
   "cell_type": "code",
   "execution_count": 4,
   "id": "f86abfb1",
   "metadata": {},
   "outputs": [
    {
     "data": {
      "text/html": [
       "<div>\n",
       "<style scoped>\n",
       "    .dataframe tbody tr th:only-of-type {\n",
       "        vertical-align: middle;\n",
       "    }\n",
       "\n",
       "    .dataframe tbody tr th {\n",
       "        vertical-align: top;\n",
       "    }\n",
       "\n",
       "    .dataframe thead th {\n",
       "        text-align: right;\n",
       "    }\n",
       "</style>\n",
       "<table border=\"1\" class=\"dataframe\">\n",
       "  <thead>\n",
       "    <tr style=\"text-align: right;\">\n",
       "      <th></th>\n",
       "      <th>message</th>\n",
       "      <th>category</th>\n",
       "    </tr>\n",
       "  </thead>\n",
       "  <tbody>\n",
       "    <tr>\n",
       "      <th>0</th>\n",
       "      <td>Message-ID: &lt;197504.1075840201539.JavaMail.eva...</td>\n",
       "      <td>1</td>\n",
       "    </tr>\n",
       "    <tr>\n",
       "      <th>57</th>\n",
       "      <td>Message-ID: &lt;11991339.1075842536086.JavaMail.e...</td>\n",
       "      <td>1</td>\n",
       "    </tr>\n",
       "    <tr>\n",
       "      <th>114</th>\n",
       "      <td>Message-ID: &lt;7106753.1075842536132.JavaMail.ev...</td>\n",
       "      <td>1</td>\n",
       "    </tr>\n",
       "    <tr>\n",
       "      <th>171</th>\n",
       "      <td>Message-ID: &lt;21267718.1075863331587.JavaMail.e...</td>\n",
       "      <td>1</td>\n",
       "    </tr>\n",
       "    <tr>\n",
       "      <th>228</th>\n",
       "      <td>Message-ID: &lt;20866019.1075863331634.JavaMail.e...</td>\n",
       "      <td>1</td>\n",
       "    </tr>\n",
       "  </tbody>\n",
       "</table>\n",
       "</div>"
      ],
      "text/plain": [
       "                                               message category\n",
       "0    Message-ID: <197504.1075840201539.JavaMail.eva...        1\n",
       "57   Message-ID: <11991339.1075842536086.JavaMail.e...        1\n",
       "114  Message-ID: <7106753.1075842536132.JavaMail.ev...        1\n",
       "171  Message-ID: <21267718.1075863331587.JavaMail.e...        1\n",
       "228  Message-ID: <20866019.1075863331634.JavaMail.e...        1"
      ]
     },
     "execution_count": 4,
     "metadata": {},
     "output_type": "execute_result"
    }
   ],
   "source": [
    "df=df.drop_duplicates(keep='first')\n",
    "df.head()"
   ]
  },
  {
   "cell_type": "markdown",
   "id": "a93c478e",
   "metadata": {},
   "source": [
    "**Reseting the index**"
   ]
  },
  {
   "cell_type": "code",
   "execution_count": 5,
   "id": "1e04c973",
   "metadata": {},
   "outputs": [
    {
     "data": {
      "text/html": [
       "<div>\n",
       "<style scoped>\n",
       "    .dataframe tbody tr th:only-of-type {\n",
       "        vertical-align: middle;\n",
       "    }\n",
       "\n",
       "    .dataframe tbody tr th {\n",
       "        vertical-align: top;\n",
       "    }\n",
       "\n",
       "    .dataframe thead th {\n",
       "        text-align: right;\n",
       "    }\n",
       "</style>\n",
       "<table border=\"1\" class=\"dataframe\">\n",
       "  <thead>\n",
       "    <tr style=\"text-align: right;\">\n",
       "      <th></th>\n",
       "      <th>message</th>\n",
       "      <th>category</th>\n",
       "    </tr>\n",
       "  </thead>\n",
       "  <tbody>\n",
       "    <tr>\n",
       "      <th>0</th>\n",
       "      <td>Message-ID: &lt;197504.1075840201539.JavaMail.eva...</td>\n",
       "      <td>1</td>\n",
       "    </tr>\n",
       "    <tr>\n",
       "      <th>1</th>\n",
       "      <td>Message-ID: &lt;11991339.1075842536086.JavaMail.e...</td>\n",
       "      <td>1</td>\n",
       "    </tr>\n",
       "    <tr>\n",
       "      <th>2</th>\n",
       "      <td>Message-ID: &lt;7106753.1075842536132.JavaMail.ev...</td>\n",
       "      <td>1</td>\n",
       "    </tr>\n",
       "    <tr>\n",
       "      <th>3</th>\n",
       "      <td>Message-ID: &lt;21267718.1075863331587.JavaMail.e...</td>\n",
       "      <td>1</td>\n",
       "    </tr>\n",
       "    <tr>\n",
       "      <th>4</th>\n",
       "      <td>Message-ID: &lt;20866019.1075863331634.JavaMail.e...</td>\n",
       "      <td>1</td>\n",
       "    </tr>\n",
       "  </tbody>\n",
       "</table>\n",
       "</div>"
      ],
      "text/plain": [
       "                                             message category\n",
       "0  Message-ID: <197504.1075840201539.JavaMail.eva...        1\n",
       "1  Message-ID: <11991339.1075842536086.JavaMail.e...        1\n",
       "2  Message-ID: <7106753.1075842536132.JavaMail.ev...        1\n",
       "3  Message-ID: <21267718.1075863331587.JavaMail.e...        1\n",
       "4  Message-ID: <20866019.1075863331634.JavaMail.e...        1"
      ]
     },
     "execution_count": 5,
     "metadata": {},
     "output_type": "execute_result"
    }
   ],
   "source": [
    "df=df.reset_index(drop=True)\n",
    "df.head()"
   ]
  },
  {
   "cell_type": "code",
   "execution_count": 6,
   "id": "e8036bcb",
   "metadata": {},
   "outputs": [
    {
     "data": {
      "text/html": [
       "<div>\n",
       "<style scoped>\n",
       "    .dataframe tbody tr th:only-of-type {\n",
       "        vertical-align: middle;\n",
       "    }\n",
       "\n",
       "    .dataframe tbody tr th {\n",
       "        vertical-align: top;\n",
       "    }\n",
       "\n",
       "    .dataframe thead th {\n",
       "        text-align: right;\n",
       "    }\n",
       "</style>\n",
       "<table border=\"1\" class=\"dataframe\">\n",
       "  <thead>\n",
       "    <tr style=\"text-align: right;\">\n",
       "      <th></th>\n",
       "      <th>message</th>\n",
       "      <th>category</th>\n",
       "    </tr>\n",
       "  </thead>\n",
       "  <tbody>\n",
       "    <tr>\n",
       "      <th>0</th>\n",
       "      <td>Message-ID: &lt;197504.1075840201539.JavaMail.eva...</td>\n",
       "      <td>1</td>\n",
       "    </tr>\n",
       "    <tr>\n",
       "      <th>1</th>\n",
       "      <td>Message-ID: &lt;11991339.1075842536086.JavaMail.e...</td>\n",
       "      <td>1</td>\n",
       "    </tr>\n",
       "    <tr>\n",
       "      <th>2</th>\n",
       "      <td>Message-ID: &lt;7106753.1075842536132.JavaMail.ev...</td>\n",
       "      <td>1</td>\n",
       "    </tr>\n",
       "    <tr>\n",
       "      <th>3</th>\n",
       "      <td>Message-ID: &lt;21267718.1075863331587.JavaMail.e...</td>\n",
       "      <td>1</td>\n",
       "    </tr>\n",
       "    <tr>\n",
       "      <th>4</th>\n",
       "      <td>Message-ID: &lt;20866019.1075863331634.JavaMail.e...</td>\n",
       "      <td>1</td>\n",
       "    </tr>\n",
       "  </tbody>\n",
       "</table>\n",
       "</div>"
      ],
      "text/plain": [
       "                                             message category\n",
       "0  Message-ID: <197504.1075840201539.JavaMail.eva...        1\n",
       "1  Message-ID: <11991339.1075842536086.JavaMail.e...        1\n",
       "2  Message-ID: <7106753.1075842536132.JavaMail.ev...        1\n",
       "3  Message-ID: <21267718.1075863331587.JavaMail.e...        1\n",
       "4  Message-ID: <20866019.1075863331634.JavaMail.e...        1"
      ]
     },
     "execution_count": 6,
     "metadata": {},
     "output_type": "execute_result"
    }
   ],
   "source": [
    "#getting first 5 rows \n",
    "df.head()"
   ]
  },
  {
   "cell_type": "code",
   "execution_count": 7,
   "id": "0fd7b42f",
   "metadata": {},
   "outputs": [
    {
     "name": "stdout",
     "output_type": "stream",
     "text": [
      "Message-ID: <11991339.1075842536086.JavaMail.evans@thyme>\n",
      "Date: Mon, 5 Mar 2001 08:23:00 -0800 (PST)\n",
      "From: drew.fossum@enron.com\n",
      "To: darrell.schoolcraft@enron.com\n",
      "Subject: TW Gas Sales: PRIVILEGED AND CONFIDENTIAL ATTORNEY CLIENT PRIVILEGE\n",
      "Cc: danny.mccarty@enron.com, steven.harris@enron.com, kevin.hyatt@enron.com\n",
      "Mime-Version: 1.0\n",
      "Content-Type: text/plain; charset=us-ascii\n",
      "Content-Transfer-Encoding: 7bit\n",
      "Bcc: danny.mccarty@enron.com, steven.harris@enron.com, kevin.hyatt@enron.com\n",
      "X-From: Drew Fossum\n",
      "X-To: Darrell Schoolcraft\n",
      "X-cc: Danny McCarty, Steven Harris, Kevin Hyatt\n",
      "X-bcc: \n",
      "X-Folder: \\Drew_Fossum_Dec2000_June2001_2\\Notes Folders\\All documents\n",
      "X-Origin: FOSSUM-D\n",
      "X-FileName: dfossum.nsf\n",
      "\n",
      "In anticipation of potential litigation involving TW's operational \n",
      "activities, please prepare an analysis for me of the reasons for TW's sale of \n",
      "excess natural gas at the California border.  I am aware of several of these \n",
      "sales and have been  informed that excess pressure at the border is the basic \n",
      "reason for them.  I'd like a more specific explanation that includes the \n",
      "following information:\n",
      "1.  What are the specific pressures and volume considerations that could make \n",
      "it operationally necessary to sell gas at the California border?  \n",
      "2.  What is the process that is followed to make such a determination?\n",
      "3.  Which individuals or groups are involved in determining whether an \n",
      "operational sale is necessary?\n",
      "4.  In what way have system operations changed since last year and how do \n",
      "those changes contribute to the increased frequency of such sales compared to \n",
      "previous years?\n",
      "5. What alternatives to operational sales are considered before the decision \n",
      "to make a sale is reached? \n",
      "\n",
      "Thanks for your attention to this request.  Please give me a call to discuss \n",
      "and please designate your response as \"Privileged and Confidential, Attorney \n",
      "Client Privileged.\" \n"
     ]
    }
   ],
   "source": [
    "print(df.loc[1]['message'])"
   ]
  },
  {
   "cell_type": "code",
   "execution_count": 8,
   "id": "dca392df",
   "metadata": {},
   "outputs": [
    {
     "data": {
      "text/plain": [
       "[('Message-ID', '<11991339.1075842536086.JavaMail.evans@thyme>'),\n",
       " ('Date', 'Mon, 5 Mar 2001 08:23:00 -0800 (PST)'),\n",
       " ('From', 'drew.fossum@enron.com'),\n",
       " ('To', 'darrell.schoolcraft@enron.com'),\n",
       " ('Subject',\n",
       "  'TW Gas Sales: PRIVILEGED AND CONFIDENTIAL ATTORNEY CLIENT PRIVILEGE'),\n",
       " ('Cc',\n",
       "  'danny.mccarty@enron.com, steven.harris@enron.com, kevin.hyatt@enron.com'),\n",
       " ('Mime-Version', '1.0'),\n",
       " ('Content-Type', 'text/plain; charset=us-ascii'),\n",
       " ('Content-Transfer-Encoding', '7bit'),\n",
       " ('Bcc',\n",
       "  'danny.mccarty@enron.com, steven.harris@enron.com, kevin.hyatt@enron.com'),\n",
       " ('X-From', 'Drew Fossum'),\n",
       " ('X-To', 'Darrell Schoolcraft'),\n",
       " ('X-cc', 'Danny McCarty, Steven Harris, Kevin Hyatt'),\n",
       " ('X-bcc', ''),\n",
       " ('X-Folder',\n",
       "  '\\\\Drew_Fossum_Dec2000_June2001_2\\\\Notes Folders\\\\All documents'),\n",
       " ('X-Origin', 'FOSSUM-D'),\n",
       " ('X-FileName', 'dfossum.nsf')]"
      ]
     },
     "execution_count": 8,
     "metadata": {},
     "output_type": "execute_result"
    }
   ],
   "source": [
    "# transform the email into correct format\n",
    "message = df.loc[1]['message']\n",
    "e = email.message_from_string(message)\n",
    "\n",
    "e.items()"
   ]
  },
  {
   "cell_type": "code",
   "execution_count": 9,
   "id": "86b35ba4",
   "metadata": {},
   "outputs": [
    {
     "data": {
      "text/plain": [
       "'Mon, 5 Mar 2001 08:23:00 -0800 (PST)'"
      ]
     },
     "execution_count": 9,
     "metadata": {},
     "output_type": "execute_result"
    }
   ],
   "source": [
    "# get date\n",
    "e.get('Date')"
   ]
  },
  {
   "cell_type": "code",
   "execution_count": 10,
   "id": "6a82e5a0",
   "metadata": {},
   "outputs": [
    {
     "data": {
      "text/plain": [
       "'In anticipation of potential litigation involving TW\\'s operational \\nactivities, please prepare an analysis for me of the reasons for TW\\'s sale of \\nexcess natural gas at the California border.  I am aware of several of these \\nsales and have been  informed that excess pressure at the border is the basic \\nreason for them.  I\\'d like a more specific explanation that includes the \\nfollowing information:\\n1.  What are the specific pressures and volume considerations that could make \\nit operationally necessary to sell gas at the California border?  \\n2.  What is the process that is followed to make such a determination?\\n3.  Which individuals or groups are involved in determining whether an \\noperational sale is necessary?\\n4.  In what way have system operations changed since last year and how do \\nthose changes contribute to the increased frequency of such sales compared to \\nprevious years?\\n5. What alternatives to operational sales are considered before the decision \\nto make a sale is reached? \\n\\nThanks for your attention to this request.  Please give me a call to discuss \\nand please designate your response as \"Privileged and Confidential, Attorney \\nClient Privileged.\" '"
      ]
     },
     "execution_count": 10,
     "metadata": {},
     "output_type": "execute_result"
    }
   ],
   "source": [
    "# show message body\n",
    "e.get_payload()"
   ]
  },
  {
   "cell_type": "markdown",
   "id": "1fbde5f2",
   "metadata": {},
   "source": [
    "# Extract headers"
   ]
  },
  {
   "cell_type": "code",
   "execution_count": 11,
   "id": "670e0b08",
   "metadata": {},
   "outputs": [],
   "source": [
    "# now we add those fields into our 'df' dataframe\n",
    "def get_field(field, messages):\n",
    "    column = []\n",
    "    for message in messages:\n",
    "        e = email.message_from_string(message)\n",
    "        column.append(e.get(field))\n",
    "    return column"
   ]
  },
  {
   "cell_type": "code",
   "execution_count": 12,
   "id": "470a4260",
   "metadata": {},
   "outputs": [],
   "source": [
    "df['date'] = get_field(\"Date\", df['message'])\n",
    "df['subject'] = get_field(\"Subject\", df['message'])\n",
    "df['X-Folder'] = get_field(\"X-Folder\", df['message'])\n",
    "df['X-From'] = get_field(\"X-From\", df['message'])\n",
    "df['X-To'] = get_field(\"X-To\", df['message'])"
   ]
  },
  {
   "cell_type": "code",
   "execution_count": 13,
   "id": "75a191f1",
   "metadata": {},
   "outputs": [
    {
     "data": {
      "text/html": [
       "<div>\n",
       "<style scoped>\n",
       "    .dataframe tbody tr th:only-of-type {\n",
       "        vertical-align: middle;\n",
       "    }\n",
       "\n",
       "    .dataframe tbody tr th {\n",
       "        vertical-align: top;\n",
       "    }\n",
       "\n",
       "    .dataframe thead th {\n",
       "        text-align: right;\n",
       "    }\n",
       "</style>\n",
       "<table border=\"1\" class=\"dataframe\">\n",
       "  <thead>\n",
       "    <tr style=\"text-align: right;\">\n",
       "      <th></th>\n",
       "      <th>message</th>\n",
       "      <th>category</th>\n",
       "      <th>date</th>\n",
       "      <th>subject</th>\n",
       "      <th>X-Folder</th>\n",
       "      <th>X-From</th>\n",
       "      <th>X-To</th>\n",
       "    </tr>\n",
       "  </thead>\n",
       "  <tbody>\n",
       "    <tr>\n",
       "      <th>0</th>\n",
       "      <td>Message-ID: &lt;197504.1075840201539.JavaMail.eva...</td>\n",
       "      <td>1</td>\n",
       "      <td>Mon, 18 Oct 1999 01:47:00 -0700 (PDT)</td>\n",
       "      <td>Translation of articles</td>\n",
       "      <td>\\Kenneth_Lay_Dec2000\\Notes Folders\\All documents</td>\n",
       "      <td>Steven J Kean</td>\n",
       "      <td>Mark Schroeder, Kenneth Lay, Joseph W Sutton, ...</td>\n",
       "    </tr>\n",
       "    <tr>\n",
       "      <th>1</th>\n",
       "      <td>Message-ID: &lt;11991339.1075842536086.JavaMail.e...</td>\n",
       "      <td>1</td>\n",
       "      <td>Mon, 5 Mar 2001 08:23:00 -0800 (PST)</td>\n",
       "      <td>TW Gas Sales: PRIVILEGED AND CONFIDENTIAL ATTO...</td>\n",
       "      <td>\\Drew_Fossum_Dec2000_June2001_2\\Notes Folders\\...</td>\n",
       "      <td>Drew Fossum</td>\n",
       "      <td>Darrell Schoolcraft</td>\n",
       "    </tr>\n",
       "    <tr>\n",
       "      <th>2</th>\n",
       "      <td>Message-ID: &lt;7106753.1075842536132.JavaMail.ev...</td>\n",
       "      <td>1</td>\n",
       "      <td>Tue, 6 Mar 2001 00:59:00 -0800 (PST)</td>\n",
       "      <td>TW Gas Sales: PRIVILEGED AND CONFIDENTIAL ATTO...</td>\n",
       "      <td>\\Drew_Fossum_Dec2000_June2001_2\\Notes Folders\\...</td>\n",
       "      <td>Drew Fossum</td>\n",
       "      <td>Julia White, Steven January</td>\n",
       "    </tr>\n",
       "  </tbody>\n",
       "</table>\n",
       "</div>"
      ],
      "text/plain": [
       "                                             message category  \\\n",
       "0  Message-ID: <197504.1075840201539.JavaMail.eva...        1   \n",
       "1  Message-ID: <11991339.1075842536086.JavaMail.e...        1   \n",
       "2  Message-ID: <7106753.1075842536132.JavaMail.ev...        1   \n",
       "\n",
       "                                    date  \\\n",
       "0  Mon, 18 Oct 1999 01:47:00 -0700 (PDT)   \n",
       "1   Mon, 5 Mar 2001 08:23:00 -0800 (PST)   \n",
       "2   Tue, 6 Mar 2001 00:59:00 -0800 (PST)   \n",
       "\n",
       "                                             subject  \\\n",
       "0                            Translation of articles   \n",
       "1  TW Gas Sales: PRIVILEGED AND CONFIDENTIAL ATTO...   \n",
       "2  TW Gas Sales: PRIVILEGED AND CONFIDENTIAL ATTO...   \n",
       "\n",
       "                                            X-Folder         X-From  \\\n",
       "0   \\Kenneth_Lay_Dec2000\\Notes Folders\\All documents  Steven J Kean   \n",
       "1  \\Drew_Fossum_Dec2000_June2001_2\\Notes Folders\\...    Drew Fossum   \n",
       "2  \\Drew_Fossum_Dec2000_June2001_2\\Notes Folders\\...    Drew Fossum   \n",
       "\n",
       "                                                X-To  \n",
       "0  Mark Schroeder, Kenneth Lay, Joseph W Sutton, ...  \n",
       "1                                Darrell Schoolcraft  \n",
       "2                        Julia White, Steven January  "
      ]
     },
     "execution_count": 13,
     "metadata": {},
     "output_type": "execute_result"
    }
   ],
   "source": [
    "df.head(3)"
   ]
  },
  {
   "cell_type": "markdown",
   "id": "7d5a1d62",
   "metadata": {},
   "source": [
    "# Extract Message Body"
   ]
  },
  {
   "cell_type": "code",
   "execution_count": 14,
   "id": "7e02bab0",
   "metadata": {},
   "outputs": [],
   "source": [
    "def body(messages):\n",
    "    column = []\n",
    "    for message in messages:\n",
    "        e = email.message_from_string(message)\n",
    "        column.append(e.get_payload())\n",
    "    return column\n",
    "\n",
    "df['body'] = body(df['message'])"
   ]
  },
  {
   "cell_type": "code",
   "execution_count": 15,
   "id": "4557bad2",
   "metadata": {},
   "outputs": [
    {
     "data": {
      "text/html": [
       "<div>\n",
       "<style scoped>\n",
       "    .dataframe tbody tr th:only-of-type {\n",
       "        vertical-align: middle;\n",
       "    }\n",
       "\n",
       "    .dataframe tbody tr th {\n",
       "        vertical-align: top;\n",
       "    }\n",
       "\n",
       "    .dataframe thead th {\n",
       "        text-align: right;\n",
       "    }\n",
       "</style>\n",
       "<table border=\"1\" class=\"dataframe\">\n",
       "  <thead>\n",
       "    <tr style=\"text-align: right;\">\n",
       "      <th></th>\n",
       "      <th>message</th>\n",
       "      <th>category</th>\n",
       "      <th>date</th>\n",
       "      <th>subject</th>\n",
       "      <th>X-Folder</th>\n",
       "      <th>X-From</th>\n",
       "      <th>X-To</th>\n",
       "      <th>body</th>\n",
       "    </tr>\n",
       "  </thead>\n",
       "  <tbody>\n",
       "    <tr>\n",
       "      <th>1631</th>\n",
       "      <td>Message-ID: &lt;13170738.1075858883646.JavaMail.e...</td>\n",
       "      <td>6</td>\n",
       "      <td>Wed, 11 Jul 2001 11:07:00 -0700 (PDT)</td>\n",
       "      <td>Re: Next Draft of Letter to Dunn</td>\n",
       "      <td>\\SKEAN (Non-Privileged)\\Kean, Steven J.\\Sent I...</td>\n",
       "      <td>Steven J Kean</td>\n",
       "      <td>Jeff Dasovich &lt;Jeff Dasovich/NA/Enron@Enron&gt;</td>\n",
       "      <td>I think this is an excellent letter.  I agree ...</td>\n",
       "    </tr>\n",
       "    <tr>\n",
       "      <th>1403</th>\n",
       "      <td>Message-ID: &lt;27759999.1075863428494.JavaMail.e...</td>\n",
       "      <td>4</td>\n",
       "      <td>Tue, 26 Jun 2001 10:06:29 -0700 (PDT)</td>\n",
       "      <td>RE: 1.  London, June 28 - 29; 2.  Houston, Jul...</td>\n",
       "      <td>\\VKAMINS (Non-Privileged)\\Kaminski, Vince J\\Se...</td>\n",
       "      <td>Kaminski, Vince J &lt;/O=ENRON/OU=NA/CN=RECIPIENT...</td>\n",
       "      <td>'\"Ehud I. Ronn\" &lt;eronn@mail.utexas.edu&gt;@ENRON'...</td>\n",
       "      <td>Ehud,\\n\\nSorry for the delay in replying to yo...</td>\n",
       "    </tr>\n",
       "  </tbody>\n",
       "</table>\n",
       "</div>"
      ],
      "text/plain": [
       "                                                message category  \\\n",
       "1631  Message-ID: <13170738.1075858883646.JavaMail.e...        6   \n",
       "1403  Message-ID: <27759999.1075863428494.JavaMail.e...        4   \n",
       "\n",
       "                                       date  \\\n",
       "1631  Wed, 11 Jul 2001 11:07:00 -0700 (PDT)   \n",
       "1403  Tue, 26 Jun 2001 10:06:29 -0700 (PDT)   \n",
       "\n",
       "                                                subject  \\\n",
       "1631                   Re: Next Draft of Letter to Dunn   \n",
       "1403  RE: 1.  London, June 28 - 29; 2.  Houston, Jul...   \n",
       "\n",
       "                                               X-Folder  \\\n",
       "1631  \\SKEAN (Non-Privileged)\\Kean, Steven J.\\Sent I...   \n",
       "1403  \\VKAMINS (Non-Privileged)\\Kaminski, Vince J\\Se...   \n",
       "\n",
       "                                                 X-From  \\\n",
       "1631                                      Steven J Kean   \n",
       "1403  Kaminski, Vince J </O=ENRON/OU=NA/CN=RECIPIENT...   \n",
       "\n",
       "                                                   X-To  \\\n",
       "1631       Jeff Dasovich <Jeff Dasovich/NA/Enron@Enron>   \n",
       "1403  '\"Ehud I. Ronn\" <eronn@mail.utexas.edu>@ENRON'...   \n",
       "\n",
       "                                                   body  \n",
       "1631  I think this is an excellent letter.  I agree ...  \n",
       "1403  Ehud,\\n\\nSorry for the delay in replying to yo...  "
      ]
     },
     "execution_count": 15,
     "metadata": {},
     "output_type": "execute_result"
    }
   ],
   "source": [
    "df.sample(2)"
   ]
  },
  {
   "cell_type": "markdown",
   "id": "d1099d75",
   "metadata": {},
   "source": [
    "# Data Cleaning"
   ]
  },
  {
   "cell_type": "code",
   "execution_count": 16,
   "id": "45182533",
   "metadata": {},
   "outputs": [],
   "source": [
    "# Removing '\\n' and '\\t' from all the messages\n",
    "def nt(text):\n",
    "    text = text.replace('\\n',' ')\n",
    "    text = text.replace('\\t',' ')\n",
    "    return text\n",
    "df['body']= df['body'].apply(lambda x:nt(x))"
   ]
  },
  {
   "cell_type": "code",
   "execution_count": 17,
   "id": "93180ed7",
   "metadata": {},
   "outputs": [
    {
     "name": "stdout",
     "output_type": "stream",
     "text": [
      "In anticipation of potential litigation involving TW's operational  activities, please prepare an analysis for me of the reasons for TW's sale of  excess natural gas at the California border.  I am aware of several of these  sales and have been  informed that excess pressure at the border is the basic  reason for them.  I'd like a more specific explanation that includes the  following information: 1.  What are the specific pressures and volume considerations that could make  it operationally necessary to sell gas at the California border?   2.  What is the process that is followed to make such a determination? 3.  Which individuals or groups are involved in determining whether an  operational sale is necessary? 4.  In what way have system operations changed since last year and how do  those changes contribute to the increased frequency of such sales compared to  previous years? 5. What alternatives to operational sales are considered before the decision  to make a sale is reached?   Thanks for your attention to this request.  Please give me a call to discuss  and please designate your response as \"Privileged and Confidential, Attorney  Client Privileged.\" \n"
     ]
    }
   ],
   "source": [
    "print(df['body'][1])"
   ]
  },
  {
   "cell_type": "markdown",
   "id": "045d0a7f",
   "metadata": {},
   "source": [
    "# Checking for Null Values"
   ]
  },
  {
   "cell_type": "code",
   "execution_count": 18,
   "id": "ca3e5573",
   "metadata": {},
   "outputs": [
    {
     "data": {
      "text/plain": [
       "message     0\n",
       "category    0\n",
       "date        0\n",
       "subject     0\n",
       "X-Folder    0\n",
       "X-From      0\n",
       "X-To        0\n",
       "body        0\n",
       "dtype: int64"
      ]
     },
     "execution_count": 18,
     "metadata": {},
     "output_type": "execute_result"
    }
   ],
   "source": [
    "df.isnull().sum()  # There are no null values"
   ]
  },
  {
   "cell_type": "code",
   "execution_count": 19,
   "id": "cc393dc5",
   "metadata": {},
   "outputs": [
    {
     "data": {
      "text/plain": [
       "1    834\n",
       "4    476\n",
       "6    143\n",
       "3    100\n",
       "5     74\n",
       "2     36\n",
       "7     21\n",
       "8     18\n",
       "Name: category, dtype: int64"
      ]
     },
     "execution_count": 19,
     "metadata": {},
     "output_type": "execute_result"
    }
   ],
   "source": [
    "df.category.value_counts()"
   ]
  },
  {
   "cell_type": "markdown",
   "id": "bc4b5999",
   "metadata": {},
   "source": [
    "# Preprocessing and get ready for model building"
   ]
  },
  {
   "cell_type": "code",
   "execution_count": 20,
   "id": "a6f04ab9",
   "metadata": {},
   "outputs": [],
   "source": [
    "stemmer = PorterStemmer()\n",
    "words = stopwords.words(\"english\")\n",
    "\n",
    "df['processed_text'] =df['body'].apply(lambda x: \" \".join([stemmer.stem(i)\n",
    "for i in re.sub(\"[^a-zA-Z]\", \" \", x).split() if i not in words]).lower())"
   ]
  },
  {
   "cell_type": "code",
   "execution_count": 21,
   "id": "21a9da9d",
   "metadata": {},
   "outputs": [],
   "source": [
    "#make all words lower case\n",
    "df['processed_text'] = df['processed_text'].str.lower()"
   ]
  },
  {
   "cell_type": "code",
   "execution_count": 22,
   "id": "c8da9854",
   "metadata": {},
   "outputs": [],
   "source": [
    "#Remove punctuation\n",
    "table = str.maketrans('', '', string.punctuation)\n",
    "df['processed_text'] = [df['processed_text'][row].translate(table) for row in range(len(df['processed_text']))]"
   ]
  },
  {
   "cell_type": "code",
   "execution_count": 23,
   "id": "943f1281",
   "metadata": {},
   "outputs": [],
   "source": [
    "# remove hash tags\n",
    "df['processed_text'] =df['processed_text'].str.replace(\"#\", \" \")"
   ]
  },
  {
   "cell_type": "code",
   "execution_count": 24,
   "id": "73e72a84",
   "metadata": {},
   "outputs": [],
   "source": [
    "#remove words less than 1 character\n",
    "df['processed_text'] = df['processed_text'].apply(lambda x: ' '.join([w for w in x.split() if len(w)>2]))"
   ]
  },
  {
   "cell_type": "code",
   "execution_count": 25,
   "id": "5c873584",
   "metadata": {},
   "outputs": [],
   "source": [
    "# split words into lists\n",
    "v = df['processed_text'].str.split().tolist()"
   ]
  },
  {
   "cell_type": "code",
   "execution_count": 26,
   "id": "56c4ab3e",
   "metadata": {},
   "outputs": [],
   "source": [
    "# compute global word frequency\n",
    "c = Counter(chain.from_iterable(v))"
   ]
  },
  {
   "cell_type": "code",
   "execution_count": 27,
   "id": "e1736d06",
   "metadata": {},
   "outputs": [],
   "source": [
    "# filter, join, and re-assign\n",
    "df['processed_text'] = [' '.join([j for j in i if c[j] > 1]) for i in v]"
   ]
  },
  {
   "cell_type": "code",
   "execution_count": 28,
   "id": "1be6c876",
   "metadata": {},
   "outputs": [
    {
     "data": {
      "text/plain": [
       "0       forward steven kean hou karen denn enron steve...\n",
       "1       anticip potenti litig involv oper activ pleas ...\n",
       "2       julia steve question sent darrel cal border li...\n",
       "3       julia steve question sent darrel cal border li...\n",
       "4       anticip potenti litig involv oper activ pleas ...\n",
       "                              ...                        \n",
       "1697                                               palmer\n",
       "1698                                                 test\n",
       "1699                                                 test\n",
       "1700    forward richard sander hou ect caren sweetland...\n",
       "1701    forward mari hain hou ect from cooper richey m...\n",
       "Name: processed_text, Length: 1702, dtype: object"
      ]
     },
     "execution_count": 28,
     "metadata": {},
     "output_type": "execute_result"
    }
   ],
   "source": [
    "df['processed_text'] "
   ]
  },
  {
   "cell_type": "code",
   "execution_count": 29,
   "id": "eeac4925",
   "metadata": {},
   "outputs": [
    {
     "data": {
      "text/plain": [
       "'julia steve question sent darrel cal border line pack sale like pull right peopl get answer prepar need explain event darrel thought better let boss know put stuff alreadi full plate thank forward drew fossum enron drew fossum darrel schoolcraft enron enron danni mccarti enron enron steven harri enron enron kevin hyatt enron enronxg subject sale privileg and confidenti attorney client privileg anticip potenti litig involv oper activ pleas prepar analysi reason sale excess natur california border awar sever sale inform excess pressur border basic reason like specif explan includ follow inform what specif pressur volum consider could make oper necessari sell california border what process follow make determin which individu group involv determin whether oper sale necessari way system oper chang sinc last year chang contribut increas frequenc sale compar previou year what altern oper sale consid decis make sale reach thank attent request pleas give call discuss pleas design respons privileg confidenti attorney client privileg'"
      ]
     },
     "execution_count": 29,
     "metadata": {},
     "output_type": "execute_result"
    }
   ],
   "source": [
    "df['processed_text'][2]"
   ]
  },
  {
   "cell_type": "markdown",
   "id": "df82c599",
   "metadata": {},
   "source": [
    "# Splitting the Data into Train and Test"
   ]
  },
  {
   "cell_type": "code",
   "execution_count": 30,
   "id": "c9454adb",
   "metadata": {},
   "outputs": [],
   "source": [
    "y = df.category\n",
    "X = df['processed_text']"
   ]
  },
  {
   "cell_type": "code",
   "execution_count": 31,
   "id": "3141e668",
   "metadata": {},
   "outputs": [
    {
     "data": {
      "text/plain": [
       "Index(['message', 'category', 'date', 'subject', 'X-Folder', 'X-From', 'X-To',\n",
       "       'body', 'processed_text'],\n",
       "      dtype='object')"
      ]
     },
     "execution_count": 31,
     "metadata": {},
     "output_type": "execute_result"
    }
   ],
   "source": [
    "df.columns"
   ]
  },
  {
   "cell_type": "code",
   "execution_count": 32,
   "id": "81316757",
   "metadata": {},
   "outputs": [
    {
     "data": {
      "text/plain": [
       "((1361,), (1361,), (341,), (341,))"
      ]
     },
     "execution_count": 32,
     "metadata": {},
     "output_type": "execute_result"
    }
   ],
   "source": [
    "X_train, X_test, y_train, y_test = train_test_split(X, y, stratify=y, test_size=0.20, random_state=42, shuffle=True)\n",
    "X_train.shape, y_train.shape, X_test.shape, y_test.shape"
   ]
  },
  {
   "cell_type": "markdown",
   "id": "44d82b0f",
   "metadata": {},
   "source": [
    "# Term frequency–inverse document frequency"
   ]
  },
  {
   "cell_type": "code",
   "execution_count": 33,
   "id": "92cc129c",
   "metadata": {},
   "outputs": [
    {
     "name": "stdout",
     "output_type": "stream",
     "text": [
      "['aaa', 'aae', 'aamodt', 'aap', 'aapi']\n"
     ]
    }
   ],
   "source": [
    "vectorizer_tfidf = TfidfVectorizer(stop_words='english', max_df=0.7)\n",
    "train_tfIdf = vectorizer_tfidf.fit_transform(X_train.values.astype('U'))\n",
    "test_tfIdf = vectorizer_tfidf.transform(X_test.values.astype('U'))\n",
    "print(vectorizer_tfidf.get_feature_names()[:5])"
   ]
  },
  {
   "cell_type": "code",
   "execution_count": 34,
   "id": "1f756e73",
   "metadata": {},
   "outputs": [
    {
     "name": "stdout",
     "output_type": "stream",
     "text": [
      "(1361, 14804) (341, 14804)\n"
     ]
    }
   ],
   "source": [
    "print(train_tfIdf.shape, test_tfIdf.shape)"
   ]
  },
  {
   "cell_type": "markdown",
   "id": "3c39e09b",
   "metadata": {},
   "source": [
    "# Fitting Naive Bayes Model"
   ]
  },
  {
   "cell_type": "code",
   "execution_count": 35,
   "id": "0a132092",
   "metadata": {},
   "outputs": [],
   "source": [
    "from sklearn.naive_bayes import MultinomialNB\n",
    "model=ComplementNB()\n",
    "model=model.fit(train_tfIdf, y_train)"
   ]
  },
  {
   "cell_type": "code",
   "execution_count": 36,
   "id": "88525bce",
   "metadata": {},
   "outputs": [
    {
     "name": "stdout",
     "output_type": "stream",
     "text": [
      "0.7207935341660544\n"
     ]
    }
   ],
   "source": [
    "#Training score\n",
    "print(model.score(train_tfIdf, y_train))"
   ]
  },
  {
   "cell_type": "markdown",
   "id": "72a9bbbc",
   "metadata": {},
   "source": [
    "# Making Predictions"
   ]
  },
  {
   "cell_type": "code",
   "execution_count": 37,
   "id": "ba803d01",
   "metadata": {},
   "outputs": [
    {
     "name": "stdout",
     "output_type": "stream",
     "text": [
      "0.5894428152492669\n"
     ]
    }
   ],
   "source": [
    "y_pred = model.predict(test_tfIdf)\n",
    "print(model.score(test_tfIdf, y_test))"
   ]
  },
  {
   "cell_type": "markdown",
   "id": "25c2d9ca",
   "metadata": {},
   "source": [
    "# Creating a Data Frame for actual vs predicted data"
   ]
  },
  {
   "cell_type": "code",
   "execution_count": 38,
   "id": "0141d6d8",
   "metadata": {},
   "outputs": [
    {
     "data": {
      "text/html": [
       "<div>\n",
       "<style scoped>\n",
       "    .dataframe tbody tr th:only-of-type {\n",
       "        vertical-align: middle;\n",
       "    }\n",
       "\n",
       "    .dataframe tbody tr th {\n",
       "        vertical-align: top;\n",
       "    }\n",
       "\n",
       "    .dataframe thead th {\n",
       "        text-align: right;\n",
       "    }\n",
       "</style>\n",
       "<table border=\"1\" class=\"dataframe\">\n",
       "  <thead>\n",
       "    <tr style=\"text-align: right;\">\n",
       "      <th></th>\n",
       "      <th>Actual</th>\n",
       "      <th>Predicted</th>\n",
       "    </tr>\n",
       "  </thead>\n",
       "  <tbody>\n",
       "    <tr>\n",
       "      <th>1260</th>\n",
       "      <td>4</td>\n",
       "      <td>4</td>\n",
       "    </tr>\n",
       "    <tr>\n",
       "      <th>1629</th>\n",
       "      <td>6</td>\n",
       "      <td>1</td>\n",
       "    </tr>\n",
       "    <tr>\n",
       "      <th>540</th>\n",
       "      <td>1</td>\n",
       "      <td>1</td>\n",
       "    </tr>\n",
       "    <tr>\n",
       "      <th>1662</th>\n",
       "      <td>6</td>\n",
       "      <td>1</td>\n",
       "    </tr>\n",
       "    <tr>\n",
       "      <th>492</th>\n",
       "      <td>1</td>\n",
       "      <td>4</td>\n",
       "    </tr>\n",
       "    <tr>\n",
       "      <th>...</th>\n",
       "      <td>...</td>\n",
       "      <td>...</td>\n",
       "    </tr>\n",
       "    <tr>\n",
       "      <th>1571</th>\n",
       "      <td>6</td>\n",
       "      <td>1</td>\n",
       "    </tr>\n",
       "    <tr>\n",
       "      <th>854</th>\n",
       "      <td>2</td>\n",
       "      <td>3</td>\n",
       "    </tr>\n",
       "    <tr>\n",
       "      <th>1108</th>\n",
       "      <td>4</td>\n",
       "      <td>1</td>\n",
       "    </tr>\n",
       "    <tr>\n",
       "      <th>1194</th>\n",
       "      <td>4</td>\n",
       "      <td>1</td>\n",
       "    </tr>\n",
       "    <tr>\n",
       "      <th>1376</th>\n",
       "      <td>4</td>\n",
       "      <td>4</td>\n",
       "    </tr>\n",
       "  </tbody>\n",
       "</table>\n",
       "<p>341 rows × 2 columns</p>\n",
       "</div>"
      ],
      "text/plain": [
       "     Actual Predicted\n",
       "1260      4         4\n",
       "1629      6         1\n",
       "540       1         1\n",
       "1662      6         1\n",
       "492       1         4\n",
       "...     ...       ...\n",
       "1571      6         1\n",
       "854       2         3\n",
       "1108      4         1\n",
       "1194      4         1\n",
       "1376      4         4\n",
       "\n",
       "[341 rows x 2 columns]"
      ]
     },
     "execution_count": 38,
     "metadata": {},
     "output_type": "execute_result"
    }
   ],
   "source": [
    "df = pd.DataFrame({'Actual': y_test, 'Predicted':y_pred})\n",
    "df"
   ]
  },
  {
   "cell_type": "markdown",
   "id": "59c2b634",
   "metadata": {},
   "source": [
    "# Checking the performance of model"
   ]
  },
  {
   "cell_type": "code",
   "execution_count": 39,
   "id": "7f30ea31",
   "metadata": {},
   "outputs": [],
   "source": [
    "cm=confusion_matrix(y_test, y_pred)"
   ]
  },
  {
   "cell_type": "code",
   "execution_count": 40,
   "id": "e66b0b77",
   "metadata": {},
   "outputs": [
    {
     "name": "stdout",
     "output_type": "stream",
     "text": [
      "[[155   0   0  10   0   0   2   0]\n",
      " [  2   3   1   1   0   0   0   0]\n",
      " [ 15   0   2   3   0   0   0   0]\n",
      " [ 58   0   1  36   0   0   0   0]\n",
      " [ 12   0   0   0   3   0   0   0]\n",
      " [ 26   0   0   2   0   1   0   0]\n",
      " [  2   0   0   2   0   0   0   0]\n",
      " [  3   0   0   0   0   0   0   1]]\n"
     ]
    }
   ],
   "source": [
    "print(cm)"
   ]
  },
  {
   "cell_type": "code",
   "execution_count": 41,
   "id": "39ed8504",
   "metadata": {},
   "outputs": [
    {
     "data": {
      "text/plain": [
       "<AxesSubplot:>"
      ]
     },
     "execution_count": 41,
     "metadata": {},
     "output_type": "execute_result"
    },
    {
     "data": {
      "image/png": "[encoded data removed]",
      "text/plain": [
       "<Figure size 432x288 with 2 Axes>"
      ]
     },
     "metadata": {
      "needs_background": "light"
     },
     "output_type": "display_data"
    }
   ],
   "source": [
    "sns.heatmap(cm,annot=True)"
   ]
  },
  {
   "cell_type": "code",
   "execution_count": 42,
   "id": "03bc027e",
   "metadata": {},
   "outputs": [
    {
     "name": "stdout",
     "output_type": "stream",
     "text": [
      "              precision    recall  f1-score   support\n",
      "\n",
      "           1       0.57      0.93      0.70       167\n",
      "           2       1.00      0.43      0.60         7\n",
      "           3       0.50      0.10      0.17        20\n",
      "           4       0.67      0.38      0.48        95\n",
      "           5       1.00      0.20      0.33        15\n",
      "           6       1.00      0.03      0.07        29\n",
      "           7       0.00      0.00      0.00         4\n",
      "           8       1.00      0.25      0.40         4\n",
      "\n",
      "    accuracy                           0.59       341\n",
      "   macro avg       0.72      0.29      0.34       341\n",
      "weighted avg       0.65      0.59      0.53       341\n",
      "\n"
     ]
    }
   ],
   "source": [
    "print(classification_report(y_test, y_pred))"
   ]
  },
  {
   "cell_type": "markdown",
   "id": "955d57bb",
   "metadata": {},
   "source": [
    "# Checking Accuracy"
   ]
  },
  {
   "cell_type": "code",
   "execution_count": 43,
   "id": "bba8a73c",
   "metadata": {},
   "outputs": [
    {
     "name": "stdout",
     "output_type": "stream",
     "text": [
      "0.5894428152492669\n"
     ]
    }
   ],
   "source": [
    "print(accuracy_score(y_test,y_pred))"
   ]
  },
  {
   "cell_type": "markdown",
   "id": "5ca10efa",
   "metadata": {},
   "source": [
    "**The Accuracy of the Naive Bayes model is 59%**"
   ]
  },
  {
   "cell_type": "markdown",
   "id": "7faed4ec",
   "metadata": {},
   "source": [
    "# Fitting Linear SVC model"
   ]
  },
  {
   "cell_type": "code",
   "execution_count": 44,
   "id": "1e693177",
   "metadata": {},
   "outputs": [],
   "source": [
    "from sklearn.svm import LinearSVC"
   ]
  },
  {
   "cell_type": "code",
   "execution_count": 45,
   "id": "0c9a1408",
   "metadata": {},
   "outputs": [],
   "source": [
    "model=LinearSVC()\n",
    "model=model.fit(train_tfIdf, y_train)"
   ]
  },
  {
   "cell_type": "markdown",
   "id": "560b51ed",
   "metadata": {},
   "source": [
    "# Making Predictions"
   ]
  },
  {
   "cell_type": "code",
   "execution_count": 46,
   "id": "886994c0",
   "metadata": {},
   "outputs": [],
   "source": [
    "y_pred = model.predict(test_tfIdf)"
   ]
  },
  {
   "cell_type": "code",
   "execution_count": 47,
   "id": "c725fd77",
   "metadata": {},
   "outputs": [
    {
     "name": "stdout",
     "output_type": "stream",
     "text": [
      "0.6832844574780058\n"
     ]
    }
   ],
   "source": [
    "print(model.score(test_tfIdf, y_test))"
   ]
  },
  {
   "cell_type": "markdown",
   "id": "2a7c927b",
   "metadata": {},
   "source": [
    "# Creating a Data Frame for actual vs predicted data"
   ]
  },
  {
   "cell_type": "code",
   "execution_count": 48,
   "id": "38962971",
   "metadata": {},
   "outputs": [
    {
     "data": {
      "text/html": [
       "<div>\n",
       "<style scoped>\n",
       "    .dataframe tbody tr th:only-of-type {\n",
       "        vertical-align: middle;\n",
       "    }\n",
       "\n",
       "    .dataframe tbody tr th {\n",
       "        vertical-align: top;\n",
       "    }\n",
       "\n",
       "    .dataframe thead th {\n",
       "        text-align: right;\n",
       "    }\n",
       "</style>\n",
       "<table border=\"1\" class=\"dataframe\">\n",
       "  <thead>\n",
       "    <tr style=\"text-align: right;\">\n",
       "      <th></th>\n",
       "      <th>Actual</th>\n",
       "      <th>Predicted</th>\n",
       "    </tr>\n",
       "  </thead>\n",
       "  <tbody>\n",
       "    <tr>\n",
       "      <th>1260</th>\n",
       "      <td>4</td>\n",
       "      <td>4</td>\n",
       "    </tr>\n",
       "    <tr>\n",
       "      <th>1629</th>\n",
       "      <td>6</td>\n",
       "      <td>6</td>\n",
       "    </tr>\n",
       "    <tr>\n",
       "      <th>540</th>\n",
       "      <td>1</td>\n",
       "      <td>6</td>\n",
       "    </tr>\n",
       "    <tr>\n",
       "      <th>1662</th>\n",
       "      <td>6</td>\n",
       "      <td>6</td>\n",
       "    </tr>\n",
       "    <tr>\n",
       "      <th>492</th>\n",
       "      <td>1</td>\n",
       "      <td>4</td>\n",
       "    </tr>\n",
       "    <tr>\n",
       "      <th>...</th>\n",
       "      <td>...</td>\n",
       "      <td>...</td>\n",
       "    </tr>\n",
       "    <tr>\n",
       "      <th>1571</th>\n",
       "      <td>6</td>\n",
       "      <td>1</td>\n",
       "    </tr>\n",
       "    <tr>\n",
       "      <th>854</th>\n",
       "      <td>2</td>\n",
       "      <td>3</td>\n",
       "    </tr>\n",
       "    <tr>\n",
       "      <th>1108</th>\n",
       "      <td>4</td>\n",
       "      <td>1</td>\n",
       "    </tr>\n",
       "    <tr>\n",
       "      <th>1194</th>\n",
       "      <td>4</td>\n",
       "      <td>1</td>\n",
       "    </tr>\n",
       "    <tr>\n",
       "      <th>1376</th>\n",
       "      <td>4</td>\n",
       "      <td>4</td>\n",
       "    </tr>\n",
       "  </tbody>\n",
       "</table>\n",
       "<p>341 rows × 2 columns</p>\n",
       "</div>"
      ],
      "text/plain": [
       "     Actual Predicted\n",
       "1260      4         4\n",
       "1629      6         6\n",
       "540       1         6\n",
       "1662      6         6\n",
       "492       1         4\n",
       "...     ...       ...\n",
       "1571      6         1\n",
       "854       2         3\n",
       "1108      4         1\n",
       "1194      4         1\n",
       "1376      4         4\n",
       "\n",
       "[341 rows x 2 columns]"
      ]
     },
     "execution_count": 48,
     "metadata": {},
     "output_type": "execute_result"
    }
   ],
   "source": [
    "df = pd.DataFrame({'Actual': y_test, 'Predicted':y_pred})\n",
    "df"
   ]
  },
  {
   "cell_type": "markdown",
   "id": "5d1fa22a",
   "metadata": {},
   "source": [
    "# Checking the performance of model"
   ]
  },
  {
   "cell_type": "code",
   "execution_count": 49,
   "id": "48e6eb2c",
   "metadata": {},
   "outputs": [
    {
     "name": "stdout",
     "output_type": "stream",
     "text": [
      "[[145   1   0  12   0   5   3   1]\n",
      " [  2   3   1   1   0   0   0   0]\n",
      " [  9   0   3   6   0   2   0   0]\n",
      " [ 22   0   2  67   3   1   0   0]\n",
      " [  5   0   0   2   7   1   0   0]\n",
      " [ 18   0   0   4   0   7   0   0]\n",
      " [  1   0   0   2   0   1   0   0]\n",
      " [  3   0   0   0   0   0   0   1]]\n"
     ]
    }
   ],
   "source": [
    "cm=confusion_matrix(y_test, y_pred)\n",
    "print(cm)"
   ]
  },
  {
   "cell_type": "code",
   "execution_count": 50,
   "id": "6abdee52",
   "metadata": {},
   "outputs": [
    {
     "data": {
      "text/plain": [
       "<AxesSubplot:>"
      ]
     },
     "execution_count": 50,
     "metadata": {},
     "output_type": "execute_result"
    },
    {
     "data": {
      "image/png": "[encoded data removed]",
      "text/plain": [
       "<Figure size 432x288 with 2 Axes>"
      ]
     },
     "metadata": {
      "needs_background": "light"
     },
     "output_type": "display_data"
    }
   ],
   "source": [
    "sns.heatmap(cm,annot=True)"
   ]
  },
  {
   "cell_type": "code",
   "execution_count": 51,
   "id": "ce38dbad",
   "metadata": {},
   "outputs": [
    {
     "name": "stdout",
     "output_type": "stream",
     "text": [
      "              precision    recall  f1-score   support\n",
      "\n",
      "           1       0.71      0.87      0.78       167\n",
      "           2       0.75      0.43      0.55         7\n",
      "           3       0.50      0.15      0.23        20\n",
      "           4       0.71      0.71      0.71        95\n",
      "           5       0.70      0.47      0.56        15\n",
      "           6       0.41      0.24      0.30        29\n",
      "           7       0.00      0.00      0.00         4\n",
      "           8       0.50      0.25      0.33         4\n",
      "\n",
      "    accuracy                           0.68       341\n",
      "   macro avg       0.54      0.39      0.43       341\n",
      "weighted avg       0.66      0.68      0.66       341\n",
      "\n"
     ]
    }
   ],
   "source": [
    "print(classification_report(y_test, y_pred))"
   ]
  },
  {
   "cell_type": "code",
   "execution_count": 52,
   "id": "617ce946",
   "metadata": {},
   "outputs": [
    {
     "name": "stdout",
     "output_type": "stream",
     "text": [
      "0.6832844574780058\n"
     ]
    }
   ],
   "source": [
    "# Checking Accuracy\n",
    "print(accuracy_score(y_test,y_pred))"
   ]
  },
  {
   "cell_type": "markdown",
   "id": "a438ee8e",
   "metadata": {},
   "source": [
    "**The Accuracy of the Linear SVC model is 68.3%**"
   ]
  },
  {
   "cell_type": "code",
   "execution_count": 53,
   "id": "d1c8508d",
   "metadata": {},
   "outputs": [],
   "source": [
    "from sklearn.ensemble import RandomForestClassifier"
   ]
  },
  {
   "cell_type": "code",
   "execution_count": 54,
   "id": "80725f6d",
   "metadata": {},
   "outputs": [],
   "source": [
    "model = RandomForestClassifier(n_estimators = 100, max_depth=100, random_state=10)"
   ]
  },
  {
   "cell_type": "code",
   "execution_count": 55,
   "id": "b87094fb",
   "metadata": {},
   "outputs": [],
   "source": [
    "model=model.fit(train_tfIdf, y_train)"
   ]
  },
  {
   "cell_type": "markdown",
   "id": "4c36e641",
   "metadata": {},
   "source": [
    "# Making Predictions"
   ]
  },
  {
   "cell_type": "code",
   "execution_count": 56,
   "id": "1b9ba1d1",
   "metadata": {},
   "outputs": [],
   "source": [
    "y_pred = model.predict(test_tfIdf)"
   ]
  },
  {
   "cell_type": "code",
   "execution_count": 57,
   "id": "d933e9de",
   "metadata": {},
   "outputs": [
    {
     "name": "stdout",
     "output_type": "stream",
     "text": [
      "0.6011730205278593\n"
     ]
    }
   ],
   "source": [
    "print(model.score(test_tfIdf, y_test))"
   ]
  },
  {
   "cell_type": "markdown",
   "id": "1162b5b2",
   "metadata": {},
   "source": [
    "# Creating a Data Frame for actual vs predicted data"
   ]
  },
  {
   "cell_type": "code",
   "execution_count": 58,
   "id": "7dbda305",
   "metadata": {},
   "outputs": [
    {
     "data": {
      "text/html": [
       "<div>\n",
       "<style scoped>\n",
       "    .dataframe tbody tr th:only-of-type {\n",
       "        vertical-align: middle;\n",
       "    }\n",
       "\n",
       "    .dataframe tbody tr th {\n",
       "        vertical-align: top;\n",
       "    }\n",
       "\n",
       "    .dataframe thead th {\n",
       "        text-align: right;\n",
       "    }\n",
       "</style>\n",
       "<table border=\"1\" class=\"dataframe\">\n",
       "  <thead>\n",
       "    <tr style=\"text-align: right;\">\n",
       "      <th></th>\n",
       "      <th>Actual</th>\n",
       "      <th>Predicted</th>\n",
       "    </tr>\n",
       "  </thead>\n",
       "  <tbody>\n",
       "    <tr>\n",
       "      <th>1260</th>\n",
       "      <td>4</td>\n",
       "      <td>4</td>\n",
       "    </tr>\n",
       "    <tr>\n",
       "      <th>1629</th>\n",
       "      <td>6</td>\n",
       "      <td>6</td>\n",
       "    </tr>\n",
       "    <tr>\n",
       "      <th>540</th>\n",
       "      <td>1</td>\n",
       "      <td>6</td>\n",
       "    </tr>\n",
       "    <tr>\n",
       "      <th>1662</th>\n",
       "      <td>6</td>\n",
       "      <td>6</td>\n",
       "    </tr>\n",
       "    <tr>\n",
       "      <th>492</th>\n",
       "      <td>1</td>\n",
       "      <td>4</td>\n",
       "    </tr>\n",
       "    <tr>\n",
       "      <th>...</th>\n",
       "      <td>...</td>\n",
       "      <td>...</td>\n",
       "    </tr>\n",
       "    <tr>\n",
       "      <th>1571</th>\n",
       "      <td>6</td>\n",
       "      <td>1</td>\n",
       "    </tr>\n",
       "    <tr>\n",
       "      <th>854</th>\n",
       "      <td>2</td>\n",
       "      <td>3</td>\n",
       "    </tr>\n",
       "    <tr>\n",
       "      <th>1108</th>\n",
       "      <td>4</td>\n",
       "      <td>1</td>\n",
       "    </tr>\n",
       "    <tr>\n",
       "      <th>1194</th>\n",
       "      <td>4</td>\n",
       "      <td>1</td>\n",
       "    </tr>\n",
       "    <tr>\n",
       "      <th>1376</th>\n",
       "      <td>4</td>\n",
       "      <td>4</td>\n",
       "    </tr>\n",
       "  </tbody>\n",
       "</table>\n",
       "<p>341 rows × 2 columns</p>\n",
       "</div>"
      ],
      "text/plain": [
       "     Actual Predicted\n",
       "1260      4         4\n",
       "1629      6         6\n",
       "540       1         6\n",
       "1662      6         6\n",
       "492       1         4\n",
       "...     ...       ...\n",
       "1571      6         1\n",
       "854       2         3\n",
       "1108      4         1\n",
       "1194      4         1\n",
       "1376      4         4\n",
       "\n",
       "[341 rows x 2 columns]"
      ]
     },
     "execution_count": 58,
     "metadata": {},
     "output_type": "execute_result"
    }
   ],
   "source": [
    "df = pd.DataFrame({'Actual': y_test, 'Predicted':y_pred})\n",
    "df"
   ]
  },
  {
   "cell_type": "markdown",
   "id": "c74b71df",
   "metadata": {},
   "source": [
    "# Checking the performance of model"
   ]
  },
  {
   "cell_type": "code",
   "execution_count": 59,
   "id": "b2492361",
   "metadata": {},
   "outputs": [
    {
     "name": "stdout",
     "output_type": "stream",
     "text": [
      "[[141   0   0  18   0   4   3   1]\n",
      " [  2   1   1   3   0   0   0   0]\n",
      " [ 12   0   2   6   0   0   0   0]\n",
      " [ 37   0   1  56   1   0   0   0]\n",
      " [ 10   0   0   2   3   0   0   0]\n",
      " [ 22   0   0   5   0   2   0   0]\n",
      " [  2   0   0   2   0   0   0   0]\n",
      " [  3   0   0   1   0   0   0   0]]\n"
     ]
    }
   ],
   "source": [
    "cm=confusion_matrix(y_test, y_pred)\n",
    "print(cm)"
   ]
  },
  {
   "cell_type": "code",
   "execution_count": 60,
   "id": "9f31d41a",
   "metadata": {},
   "outputs": [
    {
     "data": {
      "text/plain": [
       "<AxesSubplot:>"
      ]
     },
     "execution_count": 60,
     "metadata": {},
     "output_type": "execute_result"
    },
    {
     "data": {
      "image/png": "[encoded data removed]",
      "text/plain": [
       "<Figure size 432x288 with 2 Axes>"
      ]
     },
     "metadata": {
      "needs_background": "light"
     },
     "output_type": "display_data"
    }
   ],
   "source": [
    "sns.heatmap(cm,annot=True)"
   ]
  },
  {
   "cell_type": "code",
   "execution_count": 61,
   "id": "7651e9da",
   "metadata": {},
   "outputs": [
    {
     "name": "stdout",
     "output_type": "stream",
     "text": [
      "              precision    recall  f1-score   support\n",
      "\n",
      "           1       0.62      0.84      0.71       167\n",
      "           2       1.00      0.14      0.25         7\n",
      "           3       0.50      0.10      0.17        20\n",
      "           4       0.60      0.59      0.60        95\n",
      "           5       0.75      0.20      0.32        15\n",
      "           6       0.33      0.07      0.11        29\n",
      "           7       0.00      0.00      0.00         4\n",
      "           8       0.00      0.00      0.00         4\n",
      "\n",
      "    accuracy                           0.60       341\n",
      "   macro avg       0.48      0.24      0.27       341\n",
      "weighted avg       0.58      0.60      0.55       341\n",
      "\n"
     ]
    }
   ],
   "source": [
    "print(classification_report(y_test, y_pred))"
   ]
  },
  {
   "cell_type": "code",
   "execution_count": 62,
   "id": "ee9cc2e3",
   "metadata": {},
   "outputs": [
    {
     "name": "stdout",
     "output_type": "stream",
     "text": [
      "0.6011730205278593\n"
     ]
    }
   ],
   "source": [
    "# Checking Accuracy\n",
    "print(accuracy_score(y_test,y_pred))"
   ]
  },
  {
   "cell_type": "markdown",
   "id": "858c9875",
   "metadata": {},
   "source": [
    "**The Accuracy of the Random Forest Classifier model is 60.1%**"
   ]
  },
  {
   "cell_type": "markdown",
   "id": "d1a7ade2",
   "metadata": {},
   "source": [
    "# Out of all models LinearSVC gave high accuracy of 68.3%"
   ]
  }
 ],
 "metadata": {
  "kernelspec": {
   "display_name": "Python 3 (ipykernel)",
   "language": "python",
   "name": "python3"
  },
  "language_info": {
   "codemirror_mode": {
    "name": "ipython",
    "version": 3
   },
   "file_extension": ".py",
   "mimetype": "text/x-python",
   "name": "python",
   "nbconvert_exporter": "python",
   "pygments_lexer": "ipython3",
   "version": "3.7.0"
  }
 },
 "nbformat": 4,
 "nbformat_minor": 5
}
